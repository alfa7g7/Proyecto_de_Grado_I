{
 "cells": [
  {
   "cell_type": "markdown",
   "metadata": {},
   "source": [
    "Proyecto de grado nuestro: Documento creación y edición:\n",
    "https://docs.google.com/document/d/1AfOTKKQk5VkmCtN1UF7a24j62LcPgigmyroO6W4NMMs/edit?usp=sharing\n"
   ]
  },
  {
   "cell_type": "markdown",
   "metadata": {},
   "source": []
  }
 ],
 "metadata": {
  "language_info": {
   "name": "python"
  }
 },
 "nbformat": 4,
 "nbformat_minor": 2
}
